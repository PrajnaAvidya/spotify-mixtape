{
 "cells": [
  {
   "cell_type": "code",
   "execution_count": 1,
   "metadata": {
    "pycharm": {
     "name": "#%%\n"
    },
    "scrolled": true
   },
   "outputs": [],
   "source": [
    "from spotify import get_uncached_recommendations, insert_track_features\n",
    "from pprint import pprint\n",
    "\n",
    "print = pprint"
   ]
  },
  {
   "cell_type": "code",
   "execution_count": 2,
   "metadata": {
    "pycharm": {
     "name": "#%%\n"
    }
   },
   "outputs": [],
   "source": [
    "seed_track_id = \"1mRTSIs40qa2L7omBzQd1u\"\n",
    "seed_rec_ids = get_uncached_recommendations(seed_track_id)\n",
    "insert_track_features(seed_rec_ids)"
   ]
  },
  {
   "cell_type": "code",
   "execution_count": 5,
   "metadata": {
    "pycharm": {
     "name": "#%%\n"
    }
   },
   "outputs": [],
   "source": [
    "# go a layer deeper and get recommendations from each recommendation\n",
    "for seed_id in seed_rec_ids:\n",
    "    insert_track_features(get_uncached_recommendations(seed_id))"
   ]
  },
  {
   "cell_type": "code",
   "execution_count": 10,
   "metadata": {},
   "outputs": [],
   "source": [
    "# now we have data, what next?\n",
    "clustering_features = [\n",
    "    \"acousticness\",\n",
    "    \"danceability\",\n",
    "    \"energy\"\n",
    "    \"instrumentalness\"\n",
    "    \"liveness\",\n",
    "    \"speechiness\",\n",
    "    \"valence\",\n",
    "]"
   ]
  },
  {
   "cell_type": "code",
   "execution_count": null,
   "metadata": {},
   "outputs": [],
   "source": []
  }
 ],
 "metadata": {
  "kernelspec": {
   "display_name": "Python 3 (ipykernel)",
   "language": "python",
   "name": "python3"
  },
  "language_info": {
   "codemirror_mode": {
    "name": "ipython",
    "version": 3
   },
   "file_extension": ".py",
   "mimetype": "text/x-python",
   "name": "python",
   "nbconvert_exporter": "python",
   "pygments_lexer": "ipython3",
   "version": "3.9.7"
  }
 },
 "nbformat": 4,
 "nbformat_minor": 4
}
